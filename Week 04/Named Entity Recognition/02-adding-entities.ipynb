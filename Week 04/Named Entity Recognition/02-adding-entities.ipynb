{
 "cells": [
  {
   "cell_type": "markdown",
   "metadata": {},
   "source": [
    "# Adding Entities\n",
    "In this Notebook you will add your own entities and rules to process the text. In this case we want to create two labels `greed` and `freedom` as two human \"values\"."
   ]
  },
  {
   "cell_type": "code",
   "execution_count": 14,
   "metadata": {},
   "outputs": [],
   "source": [
    "import pandas as pd\n",
    "import spacy\n",
    "\n",
    "# use displacy to visually show the entities. \n",
    "from spacy import displacy\n",
    "\n",
    "# load spacy model. Alternatively you can use en_core_web_lg\n",
    "nlp = spacy.load(\"en_core_web_sm\")\n",
    "\n",
    "# load the data\n",
    "df_movies = pd.read_csv('data/imdb.csv', sep=',')\n",
    "\n",
    "# we need this to add our own entities. \n",
    "ruler = nlp.add_pipe('entity_ruler', before='ner')\n"
   ]
  },
  {
   "cell_type": "markdown",
   "metadata": {},
   "source": [
    "### 1. Data inspection\n",
    "Take a look at the movie 'V for Vendetta'. We see that the word freedom currently has no label."
   ]
  },
  {
   "cell_type": "code",
   "execution_count": null,
   "metadata": {},
   "outputs": [],
   "source": [
    "# select the plot of the movie V for Vendetta\n",
    "plot = df_movies[df_movies['Title'] == 'V for Vendetta']['Plot'].values[0]\n",
    "\n",
    "# parse the text through Spacy NLP\n",
    "doc = nlp(plot)\n",
    "\n",
    "# render the text\n",
    "displacy.render(doc, style=\"ent\")\n",
    "\n",
    "# alternative output:\n",
    "# for ent in doc.ents:\n",
    "#   print (ent.text, ent.label_)"
   ]
  },
  {
   "cell_type": "markdown",
   "metadata": {},
   "source": [
    "### 2. Adding a new entitity\n",
    "Adding a new entity is relatively easy."
   ]
  },
  {
   "cell_type": "code",
   "execution_count": null,
   "metadata": {},
   "outputs": [],
   "source": [
    "# list of Entities and Patterns you want\n",
    "patterns = [\n",
    "  {\"label\": \"VALUE\", \"pattern\": \"freedom\"}\n",
    "]\n",
    "\n",
    "# add them to the NLP ruler\n",
    "ruler.add_patterns(patterns)\n",
    "\n",
    "plot = df_movies[df_movies['Title'] == 'V for Vendetta']['Plot'].values[0]\n",
    "\n",
    "doc = nlp(plot)\n",
    "\n",
    "displacy.render(doc, style=\"ent\")\n"
   ]
  },
  {
   "cell_type": "markdown",
   "metadata": {},
   "source": [
    "### 3. Changing entities\n",
    "Take a look at the movie 'Letters from Iwo Jima'. In this case you can see that Iwo Jima is mislabeled as a person. Change this below"
   ]
  },
  {
   "cell_type": "code",
   "execution_count": null,
   "metadata": {},
   "outputs": [],
   "source": [
    "# code goes here"
   ]
  },
  {
   "cell_type": "markdown",
   "metadata": {},
   "source": [
    "### 4. Afterthought\n",
    "It will take time to create a perfect model and there will be many exceptions. The developers of Spacy also developed a simple pipeline/GUI to train a model called [Prodi.gy](https://www.youtube.com/watch?v=59BKHO_xBPA)"
   ]
  }
 ],
 "metadata": {
  "interpreter": {
   "hash": "37c10f95d263926787ebf1d430d11186fc6b9bac835b8518e0b5006ed24f0c36"
  },
  "kernelspec": {
   "display_name": "Python 3.8.0 64-bit",
   "language": "python",
   "name": "python3"
  },
  "language_info": {
   "codemirror_mode": {
    "name": "ipython",
    "version": 3
   },
   "file_extension": ".py",
   "mimetype": "text/x-python",
   "name": "python",
   "nbconvert_exporter": "python",
   "pygments_lexer": "ipython3",
   "version": "3.8.0"
  },
  "orig_nbformat": 4
 },
 "nbformat": 4,
 "nbformat_minor": 2
}

{
 "cells": [
  {
   "cell_type": "markdown",
   "id": "f8f536ea",
   "metadata": {},
   "source": [
    "# Welcome to the NER assignment\n",
    "\n",
    "During this assignment you will:\n",
    "\n",
    "* Use _Named-entitiy Recognition_ to classify named entities mentioned in unstructured text into pre-defined categories such as person names, organizations, locations, medical codes, time expressions, quantities, monetary values, percentages, etc.\n",
    "* Create own entities to compliment the current NER model(s)\n",
    "\n",
    "The dataset you for this assignment will be the imdb.csv compiled from webscraping the IMDb website."
   ]
  }
 ],
 "metadata": {
  "kernelspec": {
   "display_name": "Python 3 (ipykernel)",
   "language": "python",
   "name": "python3"
  },
  "language_info": {
   "codemirror_mode": {
    "name": "ipython",
    "version": 3
   },
   "file_extension": ".py",
   "mimetype": "text/x-python",
   "name": "python",
   "nbconvert_exporter": "python",
   "pygments_lexer": "ipython3",
   "version": "3.9.2"
  }
 },
 "nbformat": 4,
 "nbformat_minor": 5
}

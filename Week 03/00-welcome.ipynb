{
 "cells": [
  {
   "cell_type": "markdown",
   "id": "f8f536ea",
   "metadata": {},
   "source": [
    "# Welcome to the TF-IDF assignments\n",
    "\n",
    "During this assignment you will:\n",
    "\n",
    "* Derive and understanding of _TF_ (Term Frequency) and _IDF_ (Inverse Document Frequency) metrics\n",
    "* Use _TF-IDF_ information to cluster documents with the K-means clustering algorithm\n",
    "\n",
    "The dataset you for this assignment will be the imdb.csv compiled from webscraping the IMDb website."
   ]
  }
 ],
 "metadata": {
  "kernelspec": {
   "display_name": "Python 3 (ipykernel)",
   "language": "python",
   "name": "python3"
  },
  "language_info": {
   "codemirror_mode": {
    "name": "ipython",
    "version": 3
   },
   "file_extension": ".py",
   "mimetype": "text/x-python",
   "name": "python",
   "nbconvert_exporter": "python",
   "pygments_lexer": "ipython3",
   "version": "3.9.2"
  }
 },
 "nbformat": 4,
 "nbformat_minor": 5
}

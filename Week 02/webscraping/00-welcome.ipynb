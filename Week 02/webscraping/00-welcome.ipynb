{
 "cells": [
  {
   "cell_type": "markdown",
   "metadata": {},
   "source": [
    "# Welcome to web scraping\n",
    "During this assignment, you will:\n",
    "- Understand how to scrape data from a website with Selenium\n",
    "- Understand how to extract data for feature extraction (see 10.3.1 in Practical Recommender Systems book)\n",
    "\n",
    "These skills are valuable as a data scientist and necessary for both class assignments.\n",
    "\n"
   ]
  }
 ],
 "metadata": {
  "language_info": {
   "name": "python"
  },
  "orig_nbformat": 4
 },
 "nbformat": 4,
 "nbformat_minor": 2
}

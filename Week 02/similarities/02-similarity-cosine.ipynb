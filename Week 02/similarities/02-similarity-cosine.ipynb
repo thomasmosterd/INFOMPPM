{
 "cells": [
  {
   "cell_type": "markdown",
   "id": "cd5f25cb",
   "metadata": {},
   "source": [
    "# Cosine Similarity\n",
    "\n",
    "In this section you will construct another similarity metric, now based on the cosinus.\n",
    "\n",
    "Remember trigonometry (or better, linear algebra!) from your mathematics class? Well this metric is based on trigonometric operations and calculates the angle between two vectors. It might look difficult but it is rather simple. "
   ]
  },
  {
   "cell_type": "markdown",
   "id": "29570224",
   "metadata": {},
   "source": [
    "## 1. Load the dataset"
   ]
  },
  {
   "cell_type": "code",
   "execution_count": 1,
   "id": "789e26fc",
   "metadata": {},
   "outputs": [],
   "source": [
    "# code goes here"
   ]
  },
  {
   "cell_type": "markdown",
   "id": "011e2c97",
   "metadata": {},
   "source": [
    "## 2. Explore the dimensions (shape) of users' rating data\n",
    "\n",
    "Here are the IDs of two users in our ratings dataset. What are their respective ratings' dimensions (shape)? How many books did these users rate respectively?"
   ]
  },
  {
   "cell_type": "code",
   "execution_count": 2,
   "id": "b7f8330f",
   "metadata": {},
   "outputs": [],
   "source": [
    "user_id_a = 277427\n",
    "user_id_b = 277203\n",
    "\n",
    "# code goes here"
   ]
  },
  {
   "cell_type": "markdown",
   "id": "ea239736",
   "metadata": {},
   "source": [
    "If we are to produce vectors from the users' ratings and apply trigonometric operations on them,  can you see a problem here? Are the vectors of the same dimension? If not, why is this a 'problem'?"
   ]
  },
  {
   "cell_type": "markdown",
   "id": "e0e2e7c2",
   "metadata": {},
   "source": [
    "## 3. Vectorize ratings\n",
    "\n",
    "Can you vectorize the above users' ratings so they have the same dimension? To help you do this, here is sorted  list of all the ISBNs in our dataset. How can you use this list of all the ISBNs to create a (large!) vector for user_id_a?"
   ]
  },
  {
   "cell_type": "code",
   "execution_count": 4,
   "id": "c4d907d0",
   "metadata": {},
   "outputs": [],
   "source": [
    "import numpy as np\n",
    "\n",
    "ISBNS_array = df['ISBN'].unique()\n",
    "ISBNS_array = np.sort(ISBNS_array).tolist()\n"
   ]
  },
  {
   "cell_type": "markdown",
   "id": "a7213544",
   "metadata": {},
   "source": [
    "## 4. Helper functions\n",
    "\n",
    "Below are two functions that (1) retrieve user ratings from a given dataset and (2) vectorize these ratings according to a certain dimension (all ISBNs)."
   ]
  },
  {
   "cell_type": "code",
   "execution_count": 6,
   "id": "3ff1da5f",
   "metadata": {},
   "outputs": [],
   "source": [
    "def get_user_ratings(user_id, df_subset):\n",
    "    \n",
    "    df_user = df_subset[df_subset['User-ID'] == user_id]\n",
    "        \n",
    "    return dict(zip(df_user['ISBN'], df_user['Book-Rating']))"
   ]
  },
  {
   "cell_type": "code",
   "execution_count": 7,
   "id": "f374ed57",
   "metadata": {},
   "outputs": [],
   "source": [
    "def create_ratings_vector(user_ISBN_rating_dict, all_ISBNS_array):\n",
    "    \n",
    "    user_ISBNS = user_ISBN_rating_dict.keys()\n",
    "    \n",
    "    return [0 if v not in user_ISBNS else user_ISBN_rating_dict[v] for v in all_ISBNS_array]    "
   ]
  },
  {
   "cell_type": "markdown",
   "id": "4fc79060",
   "metadata": {},
   "source": [
    "## 5. Cosine distance function\n",
    "\n",
    "Can you finish the writing of the function below that calculates the angle between two vectors have the same dimension? As you can see, use the numpy `dot` and `norm` operators do translate the given formula into code."
   ]
  },
  {
   "cell_type": "code",
   "execution_count": 8,
   "id": "9c856545",
   "metadata": {},
   "outputs": [],
   "source": [
    "from numpy import dot\n",
    "from numpy.linalg import norm\n",
    "\n",
    "def cosine_distance(ratings_vector_user_a, ratings_vector_user_b):\n",
    "    \n",
    "#     a . b  -> dot(a, b)\n",
    "#     -----\n",
    "#     |a||b| -> norm(a) * norm(b)\n",
    "    \n",
    "    pass\n",
    "    "
   ]
  },
  {
   "cell_type": "markdown",
   "id": "fb03e68c",
   "metadata": {},
   "source": [
    "## 6. Calculate distances\n",
    "\n",
    "Here is the ID of a user in our dataset (you can of course choose another one!).\n",
    "\n",
    "Can you calculate this user's cosine distance from all the other users in the dataset?"
   ]
  },
  {
   "cell_type": "code",
   "execution_count": 5,
   "id": "590be665",
   "metadata": {},
   "outputs": [],
   "source": [
    "a_user_id = 277427"
   ]
  },
  {
   "cell_type": "markdown",
   "id": "afecbadb",
   "metadata": {},
   "source": [
    "## 7. Function calculating distances\n",
    "\n",
    "Considering the code above, can you make a function that will take as input a given user's ID and calculate its distance from all other users in our dataset?"
   ]
  },
  {
   "cell_type": "code",
   "execution_count": null,
   "id": "bae9370a",
   "metadata": {},
   "outputs": [],
   "source": [
    "# code goes here"
   ]
  }
 ],
 "metadata": {
  "kernelspec": {
   "display_name": "Python 3 (ipykernel)",
   "language": "python",
   "name": "python3"
  },
  "language_info": {
   "codemirror_mode": {
    "name": "ipython",
    "version": 3
   },
   "file_extension": ".py",
   "mimetype": "text/x-python",
   "name": "python",
   "nbconvert_exporter": "python",
   "pygments_lexer": "ipython3",
   "version": "3.9.2"
  }
 },
 "nbformat": 4,
 "nbformat_minor": 5
}

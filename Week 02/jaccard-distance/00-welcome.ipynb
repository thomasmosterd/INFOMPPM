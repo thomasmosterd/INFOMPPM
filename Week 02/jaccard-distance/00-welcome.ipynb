{
 "cells": [
  {
   "cell_type": "markdown",
   "metadata": {},
   "source": [
    "# Welcome to a practical implementation of the Jaccard index\n",
    "With some knowledge about calculating the Jaccard index you will know create a script that creates a function to get content from similar users. "
   ]
  }
 ],
 "metadata": {
  "language_info": {
   "name": "python"
  },
  "orig_nbformat": 4
 },
 "nbformat": 4,
 "nbformat_minor": 2
}

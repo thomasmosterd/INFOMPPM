{
 "cells": [
  {
   "cell_type": "markdown",
   "metadata": {},
   "source": [
    "# Recommendations based on Jaccard index\n",
    "In this Notebook you will write the function that can be implemented in the Streamlit app. The actual code is already implemented in the streamlit app if you want to be inspired."
   ]
  },
  {
   "cell_type": "markdown",
   "metadata": {},
   "source": [
    "### 1. Loading the data\n",
    "Load a subset from the ratings dataset."
   ]
  },
  {
   "cell_type": "code",
   "execution_count": null,
   "metadata": {},
   "outputs": [],
   "source": [
    "import pandas as pd\n",
    "df = pd.read_csv('./data/BX-Book-Ratings-Subset.csv', sep=';', encoding='latin-1')"
   ]
  },
  {
   "cell_type": "markdown",
   "metadata": {},
   "source": [
    "### 2. Generating the recommendations"
   ]
  },
  {
   "cell_type": "code",
   "execution_count": null,
   "metadata": {},
   "outputs": [],
   "source": [
    "import itertools\n",
    "\n",
    "# user we want to check\n",
    "id = 98783\n",
    "\n",
    "def get_jaccard_recommendations(id):\n",
    "  # create lists per user\n",
    "  users = df.groupby('User-ID')['ISBN'].apply(list)\n",
    "  \n",
    "  new_content = []\n",
    "  similar_users = []\n",
    "  \n",
    "  for user, value in users.items():\n",
    "    # calculate Jaccard distance\n",
    "    \n",
    "    # tweak this parameter. Closer to 0.0 is more the same. 0.0 is the user.\n",
    "    if distance < 0.8 and distance != 0.0:\n",
    "      \n",
    "      # get the differences in sets (ISBN) from the the selected user and user in the for-loop\n",
    "      # add these differences to new_content \n",
    "      # code goes here\n",
    "\n",
    "      # add the user to similiar_users\n",
    "      # code goes here\n",
    "\n",
    "  # flatten the list with the sets\n",
    "  new_content = list(itertools.chain(*new_content))\n",
    "\n",
    "  # select the books\n",
    "  # code goes here\n",
    "\n",
    "  return df_recommendations\n",
    "\n",
    "get_jaccard_recommendations(id)\n"
   ]
  }
 ],
 "metadata": {
  "interpreter": {
   "hash": "37c10f95d263926787ebf1d430d11186fc6b9bac835b8518e0b5006ed24f0c36"
  },
  "kernelspec": {
   "display_name": "Python 3.8.0 64-bit",
   "language": "python",
   "name": "python3"
  },
  "language_info": {
   "codemirror_mode": {
    "name": "ipython",
    "version": 3
   },
   "file_extension": ".py",
   "mimetype": "text/x-python",
   "name": "python",
   "nbconvert_exporter": "python",
   "pygments_lexer": "ipython3",
   "version": "3.8.0"
  },
  "orig_nbformat": 4
 },
 "nbformat": 4,
 "nbformat_minor": 2
}

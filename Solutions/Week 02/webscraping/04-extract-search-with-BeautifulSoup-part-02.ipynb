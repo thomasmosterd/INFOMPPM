{
 "cells": [
  {
   "cell_type": "markdown",
   "metadata": {},
   "source": [
    "# Extract search results with BeautifulSoup: PBS.org - part 02\n",
    "With the 10 most recent articles collected it is time to see if we can extract information from these pages. You will use a lot of what you learned in the previous Notebooks."
   ]
  },
  {
   "cell_type": "markdown",
   "metadata": {},
   "source": [
    "### 1. Loop through the files and extract the data"
   ]
  },
  {
   "cell_type": "code",
   "execution_count": null,
   "metadata": {},
   "outputs": [],
   "source": [
    "import glob\n",
    "from bs4 import BeautifulSoup\n",
    "\n",
    "# load html files\n",
    "files = glob.glob('./data/*.html')\n",
    "\n",
    "data = []\n",
    "\n",
    "for file in files:\n",
    "  soup = BeautifulSoup(open(file), 'html.parser')\n",
    "  article = {}\n",
    "  \n",
    "  # extract the data from each file\n",
    "  title = soup.find('meta',  attrs={'property': 'og:title'})['content']\n",
    "  description = soup.find('meta',  attrs={'property': 'og:description'})['content']\n",
    "  datetime = soup.find('meta',  attrs={'property': 'article:published_time'})['content']\n",
    "  section = soup.find('meta',  attrs={'property': 'article:section'})['content']\n",
    "  tags = soup.find('meta',  attrs={'property': 'article:tag'})['content']\n",
    "\n",
    "  article = {\n",
    "    'title': title,\n",
    "    'description': description,\n",
    "    'datetime': datetime,\n",
    "    'section': section,\n",
    "    'tags': tags\n",
    "  }\n",
    "  \n",
    "  # append the article to the data\n",
    "  data.append(article)\n",
    "\n",
    "data"
   ]
  }
 ],
 "metadata": {
  "interpreter": {
   "hash": "37c10f95d263926787ebf1d430d11186fc6b9bac835b8518e0b5006ed24f0c36"
  },
  "kernelspec": {
   "display_name": "Python 3.8.0 64-bit",
   "language": "python",
   "name": "python3"
  },
  "language_info": {
   "codemirror_mode": {
    "name": "ipython",
    "version": 3
   },
   "file_extension": ".py",
   "mimetype": "text/x-python",
   "name": "python",
   "nbconvert_exporter": "python",
   "pygments_lexer": "ipython3",
   "version": "3.8.0"
  },
  "orig_nbformat": 4
 },
 "nbformat": 4,
 "nbformat_minor": 2
}

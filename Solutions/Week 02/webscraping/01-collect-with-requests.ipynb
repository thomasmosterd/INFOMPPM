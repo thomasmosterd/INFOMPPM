{
 "cells": [
  {
   "cell_type": "markdown",
   "metadata": {},
   "source": [
    "# Collect with requests: PBS.org\n",
    "Imagine you are in a research project exploring how the narrative around technological innovations such as Artificial Intelligence changes over time. You have a \"gut feeling\" that AI in 2005 was considered to be heralded as saving the world, whilst in 2022 AI is considered a threat on my levels.\n",
    "\n",
    "For this project, you decide to collect news articles about Artificial Intelligence from online newssites such as [pbs.org/newshour](https://www.pbs.org/newshour). Once collected, the content could describe something about AI's discourse and issues.\n",
    "\n",
    "In the first few Notebooks we are going to look at a single article to extract and gradually work towards a complete scraper."
   ]
  },
  {
   "cell_type": "markdown",
   "metadata": {},
   "source": [
    "### 1. Make a simple request\n"
   ]
  },
  {
   "cell_type": "code",
   "execution_count": 4,
   "metadata": {},
   "outputs": [],
   "source": [
    "import requests\n",
    "\n",
    "# we are going to look at one article\n",
    "url = 'https://www.pbs.org/newshour/economy/google-ceo-calls-for-regulation-of-artificial-intelligence'\n",
    "\n",
    "# request the page\n",
    "page = requests.get(url)"
   ]
  },
  {
   "cell_type": "markdown",
   "metadata": {},
   "source": [
    "### 2. Review request\n",
    "Look at the variable `page` and you will see a <Response [200](https://www.w3.org/Protocols/rfc2616/rfc2616-sec10.html)> which means that the request has succeeded and that information was returned. By using `page.content` you will see the content of the returned response. As you can imagine the output will exceed the size limit of this Notebook. Go the the website itself and look at the source."
   ]
  },
  {
   "cell_type": "code",
   "execution_count": 5,
   "metadata": {},
   "outputs": [
    {
     "data": {
      "text/plain": [
       "<Response [200]>"
      ]
     },
     "execution_count": 5,
     "metadata": {},
     "output_type": "execute_result"
    }
   ],
   "source": [
    "# display the page.content\n",
    "page"
   ]
  }
 ],
 "metadata": {
  "interpreter": {
   "hash": "37c10f95d263926787ebf1d430d11186fc6b9bac835b8518e0b5006ed24f0c36"
  },
  "kernelspec": {
   "display_name": "Python 3.8.0 64-bit",
   "language": "python",
   "name": "python3"
  },
  "language_info": {
   "codemirror_mode": {
    "name": "ipython",
    "version": 3
   },
   "file_extension": ".py",
   "mimetype": "text/x-python",
   "name": "python",
   "nbconvert_exporter": "python",
   "pygments_lexer": "ipython3",
   "version": "3.8.0"
  },
  "orig_nbformat": 4
 },
 "nbformat": 4,
 "nbformat_minor": 2
}

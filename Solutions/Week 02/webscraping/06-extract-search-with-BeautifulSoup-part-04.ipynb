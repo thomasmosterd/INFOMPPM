{
 "cells": [
  {
   "cell_type": "markdown",
   "metadata": {},
   "source": [
    "# Extract search results with BeautifulSoup: PBS.org - part 04\n",
    "In this final part you will run through the complete dataset you just collected. The goal is to save a .json file with the extracted data. Fill in the blanks with prior knowledge."
   ]
  },
  {
   "cell_type": "markdown",
   "metadata": {},
   "source": [
    "### 1. Extract the data from the stored HTML files\n"
   ]
  },
  {
   "cell_type": "code",
   "execution_count": null,
   "metadata": {},
   "outputs": [],
   "source": [
    "import glob\n",
    "from bs4 import BeautifulSoup\n",
    "\n",
    "# load html files\n",
    "files = glob.glob('./data/*.html')\n",
    "\n",
    "data = []\n",
    "\n",
    "for file in files:\n",
    "  if './data/show' not in file:\n",
    "    soup = BeautifulSoup(open(file), 'html.parser')\n",
    "    article = {}\n",
    "    print(file)\n",
    "    \n",
    "    # extract the data from each file\n",
    "    if soup.find('meta',  attrs={'property': 'og:title'}):\n",
    "      title = soup.find('meta',  attrs={'property': 'og:title'})['content']\n",
    "    else:\n",
    "      title = ''\n",
    "    \n",
    "    if soup.find('meta',  attrs={'property': 'og:description'}):\n",
    "      description = soup.find('meta',  attrs={'property': 'og:description'})['content']\n",
    "    else:\n",
    "      description = ''\n",
    "\n",
    "    if soup.find('meta',  attrs={'property': 'article:published_time'}):\n",
    "      datetime = soup.find('meta',  attrs={'property': 'article:published_time'})['content']\n",
    "    else:\n",
    "      datetime = ''\n",
    "    \n",
    "    if soup.find('meta',  attrs={'property': 'article:section'}):\n",
    "      section = soup.find('meta',  attrs={'property': 'article:section'})['content']\n",
    "    else:\n",
    "      section = ''\n",
    "    \n",
    "    if soup.find('meta',  attrs={'property': 'article:tag'}):\n",
    "      tags = soup.find('meta',  attrs={'property': 'article:tag'})['content']\n",
    "    else:\n",
    "      tags = ''\n",
    "\n",
    "    article = {\n",
    "      'title': title,\n",
    "      'description': description,\n",
    "      'datetime': datetime,\n",
    "      'section': section,\n",
    "      'tags': tags\n",
    "    }\n",
    "    \n",
    "    # append the article to the data\n",
    "    data.append(article)"
   ]
  },
  {
   "cell_type": "markdown",
   "metadata": {},
   "source": [
    "### 2. Troubleshooting\n",
    "So far the scraping has come along smoothly. But apperently there is an error when executing the code above. This is troublesome! The first step is to see the nature of the error and locate the .html file. Add a print statement that prints out the filename and locate the file on your disk. Open it and try to deduce what the problem is. Discuss with the lecturer what a course of action could be. \n",
    "\n",
    "After solving the first issue you will run into a second one... try to deduce what is happening. Discuss with the lecturer what a course of action could be. "
   ]
  },
  {
   "cell_type": "markdown",
   "metadata": {},
   "source": [
    "### 3. Saving the data\n"
   ]
  },
  {
   "cell_type": "code",
   "execution_count": 5,
   "metadata": {},
   "outputs": [],
   "source": [
    "import json\n",
    "with open('data.json', 'w') as f:\n",
    "    json.dump(data, f)"
   ]
  }
 ],
 "metadata": {
  "interpreter": {
   "hash": "37c10f95d263926787ebf1d430d11186fc6b9bac835b8518e0b5006ed24f0c36"
  },
  "kernelspec": {
   "display_name": "Python 3.8.0 64-bit",
   "language": "python",
   "name": "python3"
  },
  "language_info": {
   "codemirror_mode": {
    "name": "ipython",
    "version": 3
   },
   "file_extension": ".py",
   "mimetype": "text/x-python",
   "name": "python",
   "nbconvert_exporter": "python",
   "pygments_lexer": "ipython3",
   "version": "3.8.0"
  },
  "orig_nbformat": 4
 },
 "nbformat": 4,
 "nbformat_minor": 2
}

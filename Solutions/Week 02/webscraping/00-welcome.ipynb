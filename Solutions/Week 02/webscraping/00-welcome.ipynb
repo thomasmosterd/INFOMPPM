{
 "cells": [
  {
   "cell_type": "markdown",
   "metadata": {},
   "source": [
    "# Welcome to webscraping\n",
    "During this assignment you will:\n",
    "- Learn how to scrape data from a website with Selenium\n",
    "- Learn how to extract data for feature extraction (see 10.3.1 in Practical Recommender Systems book)\n",
    "\n",
    "These skills are valueable as a data scientist and necessary for both class assignments.\n",
    "\n"
   ]
  }
 ],
 "metadata": {
  "language_info": {
   "name": "python"
  },
  "orig_nbformat": 4
 },
 "nbformat": 4,
 "nbformat_minor": 2
}

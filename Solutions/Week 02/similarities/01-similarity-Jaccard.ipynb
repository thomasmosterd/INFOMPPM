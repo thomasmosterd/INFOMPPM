{
 "cells": [
  {
   "cell_type": "markdown",
   "id": "b64ef186",
   "metadata": {},
   "source": [
    "# Jaccard Similarity \n",
    "\n",
    "In this section you will construct a similarity metric based on the Jaccard similarity coefficient. \n",
    "\n",
    "Remember sets from your mathematics class? Well the coefficient is rather simple as it is based on sets operations, namely intersection and union."
   ]
  },
  {
   "cell_type": "markdown",
   "id": "09fa1125",
   "metadata": {},
   "source": [
    "## 1. Load the dataset"
   ]
  },
  {
   "cell_type": "code",
   "execution_count": null,
   "id": "8c0a3acb",
   "metadata": {},
   "outputs": [],
   "source": [
    "import pandas as pd\n",
    "df_books_ratings = pd.read_csv('data/BX-Book-Ratings-Subset.csv', sep=';')\n",
    "df_books_ratings"
   ]
  },
  {
   "cell_type": "markdown",
   "id": "911cc4e4",
   "metadata": {},
   "source": [
    "## 2. Make a set for each book entry\n",
    "\n",
    "Now we need to construct a set for each book in our dataset. This set will be composed of User-IDs who rated the book. \n",
    "\n",
    "From our data frame, can you construct a python dictionary containing ISBNs as keys and an array of User-IDs as values? "
   ]
  },
  {
   "cell_type": "code",
   "execution_count": 1,
   "id": "a1699288",
   "metadata": {},
   "outputs": [],
   "source": [
    "df = df_books_ratings\n",
    "\n",
    "dict_isbn_groups = df.groupby(['ISBN'])['User-ID'].aggregate(lambda x: list(x))\n",
    "\n",
    "print(len(dict_isbn_groups.keys()))\n",
    "\n",
    "dict_isbn_groups.to_dict()"
   ]
  },
  {
   "cell_type": "markdown",
   "id": "737f5bcc",
   "metadata": {},
   "source": [
    "## 3. Jaccard distance function\n",
    "\n",
    "Here is the `jaccard_distance` function we provide you for the exercise. It calculates the distance between 2 books, taking into account who rated them (i.e., if more users rated the same book, then the books are closer). \n",
    "\n",
    "Please have a closer look at the function. As you can see, we are using python sets and the function is expecting two arrays composed of User-IDs."
   ]
  },
  {
   "cell_type": "code",
   "execution_count": 7,
   "id": "6936df3b",
   "metadata": {},
   "outputs": [],
   "source": [
    "def jaccard_distance(user_ids_isbn_a, user_ids_isbn_b):\n",
    "                \n",
    "    set_isbn_a = set(user_ids_isbn_a)\n",
    "    set_isbn_b = set(user_ids_isbn_b)\n",
    "    \n",
    "    union = set_isbn_a.union(set_isbn_b)\n",
    "    intersection = set_isbn_a.intersection(set_isbn_b)\n",
    "        \n",
    "    return len(intersection) / float(len(union))"
   ]
  },
  {
   "cell_type": "markdown",
   "id": "4d1106d7",
   "metadata": {},
   "source": [
    "## 4. Calculate distances \n",
    "\n",
    "Here is the ISBN of a book in our dataset (you can of course choose another one!). \n",
    "\n",
    "Can you calculate this book's jaccard distance from all the other books in the dataset?"
   ]
  },
  {
   "cell_type": "code",
   "execution_count": 2,
   "id": "4303c165",
   "metadata": {},
   "outputs": [],
   "source": [
    "a_book_isbn = '002542730X'\n",
    "\n",
    "for isbn, users in dict_isbn_groups.items():\n",
    "    if isbn != a_book_isbn:\n",
    "        d = jaccard_distance(dict_isbn_groups[a_book_isbn], users)\n",
    "        if d > 0.0:\n",
    "            print(a_book_isbn + ' - ' + isbn + ' : d=' + str(d))"
   ]
  },
  {
   "cell_type": "markdown",
   "id": "0c899ec6",
   "metadata": {},
   "source": [
    "## 5. Function calculating distances \n",
    "\n",
    "Considering the code above, can you make a function that will take as input a given book's ISBN and calculate its distance from all other books in our dataset? "
   ]
  },
  {
   "cell_type": "code",
   "execution_count": null,
   "id": "fb5491d8",
   "metadata": {},
   "outputs": [],
   "source": [
    "# code goes here"
   ]
  }
 ],
 "metadata": {
  "kernelspec": {
   "display_name": "Python 3 (ipykernel)",
   "language": "python",
   "name": "python3"
  },
  "language_info": {
   "codemirror_mode": {
    "name": "ipython",
    "version": 3
   },
   "file_extension": ".py",
   "mimetype": "text/x-python",
   "name": "python",
   "nbconvert_exporter": "python",
   "pygments_lexer": "ipython3",
   "version": "3.9.2"
  }
 },
 "nbformat": 4,
 "nbformat_minor": 5
}

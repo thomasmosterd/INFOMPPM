{
 "cells": [
  {
   "cell_type": "markdown",
   "id": "2db5aeb9",
   "metadata": {},
   "source": [
    "# K-means clustering\n",
    "\n",
    "In this section you will create clusters based on book ratings using K-means operations. \n",
    "\n",
    "Are there similarities between books when we plot them in a graph? Are there possible clusters we can derive from this spatial layout? \n",
    "\n",
    "To help us cluster our book data, we will be using the sklearn Kmeans and a graph layout function from Ch.7 in our manual. "
   ]
  },
  {
   "cell_type": "markdown",
   "id": "6d55e347",
   "metadata": {},
   "source": [
    "## 1. Load the dataset"
   ]
  },
  {
   "cell_type": "code",
   "execution_count": 1,
   "id": "f8adc939",
   "metadata": {},
   "outputs": [],
   "source": [
    "import pandas as pd\n",
    "df_books_ratings = pd.read_csv('data/BX-Book-Ratings-Subset.csv', sep=';')\n",
    "df_books_ratings"
   ]
  },
  {
   "cell_type": "markdown",
   "id": "cf11b389",
   "metadata": {},
   "source": [
    "## 1. Construct a ratings matrix \n",
    "\n",
    "To cluster our data we need to construct a matrix where each row is the ratings from all users for a certain book. In other words, the index of the matrix will be books ISBN and the columns user ratings (i.e., one column per User-ID).\n",
    "\n",
    "Can you construct such (huge!) matrix with the dataset? (Hint: use the pandas dataframe `pivot` function)"
   ]
  },
  {
   "cell_type": "code",
   "execution_count": 2,
   "id": "d55dd1a1",
   "metadata": {},
   "outputs": [],
   "source": [
    "df = df_books_ratings.pivot(index='ISBN', columns='User-ID', values='Book-Rating').fillna(0)\n",
    "df"
   ]
  },
  {
   "cell_type": "markdown",
   "id": "5f5b3829",
   "metadata": {},
   "source": [
    "## 2.  Construct a sparse matrix using scipy.sparse\n",
    "\n",
    "Now that you have a matrix built from the dataset we need to tranform it into a `scipy.sparse` `csr_matrix` in order to produce our clusters with `sklearn.cluster`"
   ]
  },
  {
   "cell_type": "code",
   "execution_count": 3,
   "id": "9a704ceb",
   "metadata": {},
   "outputs": [],
   "source": [
    "from scipy.sparse import csr_matrix\n",
    "\n",
    "matrix = csr_matrix(df.values)\n",
    "\n",
    "matrix"
   ]
  },
  {
   "cell_type": "markdown",
   "id": "438820e3",
   "metadata": {},
   "source": [
    "## 3. Cluster!\n",
    "\n",
    "Now that you have your matrix ready it is time to cluster! \n",
    "\n",
    "Can you fit your matrix into the 3x clusters Kmeans object?  "
   ]
  },
  {
   "cell_type": "code",
   "execution_count": null,
   "id": "58205adf",
   "metadata": {},
   "outputs": [],
   "source": [
    "from sklearn.cluster import KMeans\n",
    "\n",
    "kmeans_3_clusters = KMeans(n_clusters=3)\n",
    "\n",
    "clusters = kmeans_3_clusters.fit(matrix)\n",
    "\n",
    "clusters.labels_"
   ]
  },
  {
   "cell_type": "markdown",
   "id": "92205685",
   "metadata": {},
   "source": [
    "What does the  `clusters ` variable hold in terms of data?"
   ]
  },
  {
   "cell_type": "markdown",
   "id": "613e8d67",
   "metadata": {},
   "source": [
    "## 4. Visualise clusters\n",
    "\n",
    "Below is a (modified) `plot` function from our manual discussed in Ch.7. section 7.4.2. It displays clusters in a graph. "
   ]
  },
  {
   "cell_type": "code",
   "execution_count": 112,
   "id": "b1fca274",
   "metadata": {},
   "outputs": [],
   "source": [
    "import numpy as np\n",
    "import matplotlib.pyplot as plt\n",
    "from sklearn.decomposition import PCA\n",
    "\n",
    "def plot(user_ratings, k):\n",
    "\n",
    "        h = 0.2\n",
    "        reduced_data = PCA(n_components=2).fit_transform(user_ratings)\n",
    "\n",
    "        kmeans = KMeans(init='k-means++', n_clusters=k, n_init=10)\n",
    "        kmeans.fit(reduced_data)\n",
    "\n",
    "        x_min, x_max = reduced_data[:, 0].min() - 1, reduced_data[:, 0].max() + 1\n",
    "        y_min, y_max = reduced_data[:, 1].min() - 1, reduced_data[:, 1].max() + 1\n",
    "        xx, yy = np.meshgrid(np.arange(x_min, x_max, h), np.arange(y_min, y_max, h))\n",
    "\n",
    "        Z = kmeans.predict(np.c_[xx.ravel(), yy.ravel()])\n",
    "\n",
    "        # Put the result into a color plot\n",
    "        Z = Z.reshape(xx.shape)\n",
    "\n",
    "        plt.figure(1)\n",
    "        plt.clf()\n",
    "        plt.imshow(Z, interpolation='nearest',\n",
    "                   extent=(xx.min(), xx.max(), yy.min(), yy.max()),\n",
    "                   cmap=plt.cm.Paired,\n",
    "                   aspect='auto', origin='lower')\n",
    "\n",
    "        centroids = kmeans.cluster_centers_\n",
    "        plt.plot(reduced_data[:, 0], reduced_data[:, 1], 'k.', markersize=2)\n",
    "        plt.scatter(centroids[:, 0], centroids[:, 1],\n",
    "                    marker='x', s=169, linewidths=3,\n",
    "                    color='r', zorder=10)\n",
    "        plt.title('K-means clustering of the user')"
   ]
  },
  {
   "cell_type": "markdown",
   "id": "a2cb34d4",
   "metadata": {},
   "source": [
    "Let's use this function to see how our books data can be clustered.  "
   ]
  },
  {
   "cell_type": "code",
   "execution_count": null,
   "id": "2882d8e4",
   "metadata": {},
   "outputs": [],
   "source": [
    "from scipy.sparse import dok_matrix\n",
    "\n",
    "d_matrix = dok_matrix(...).todense()\n",
    "\n",
    "plot(user_ratings=d_matrix, k=9)"
   ]
  },
  {
   "cell_type": "markdown",
   "id": "f6731e1c",
   "metadata": {},
   "source": [
    "## 5. How about users?\n",
    "\n",
    "Can we you use the code above to cluster users depending on their ratings? Can you visualise this clustering using the `plot` function above?"
   ]
  },
  {
   "cell_type": "code",
   "execution_count": 4,
   "id": "2392305a",
   "metadata": {},
   "outputs": [],
   "source": [
    "df_users = df_books_ratings.pivot(index='User-ID', columns='ISBN', values='Book-Rating').fillna(0)\n",
    "df_users\n",
    "\n",
    "matrix_user = csr_matrix(df_users.values)\n",
    "\n",
    "d_matrix_user = dok_matrix(matrix_user).todense()\n",
    "\n",
    "plot(user_ratings=d_matrix_user, k=6)"
   ]
  },
  {
   "cell_type": "markdown",
   "id": "24be283f",
   "metadata": {},
   "source": [
    "## 6. Saving clusters\n",
    "\n",
    "Create a dataframe consisting of 'User-ID' and cluster labels and save it in the data directory. To help you do this you can use the following code."
   ]
  },
  {
   "cell_type": "code",
   "execution_count": 97,
   "id": "c7e18760",
   "metadata": {},
   "outputs": [],
   "source": [
    "# saving clusters\n",
    "\n",
    "kmeans_6_clusters = KMeans(n_clusters=6)\n",
    "\n",
    "clusters_users = kmeans_6_clusters.fit(matrix_user)\n",
    "\n",
    "# print(clusters_users.labels_)\n",
    "\n",
    "df_to_save = pd.DataFrame()\n",
    "df_to_save['User-ID'] = df_users.index\n",
    "df_to_save['Cluster'] = clusters_users.labels_\n",
    "\n",
    "df_to_save.to_csv('data/BX-users-cluster-6.csv', index=False, sep=';')"
   ]
  }
 ],
 "metadata": {
  "kernelspec": {
   "display_name": "Python 3 (ipykernel)",
   "language": "python",
   "name": "python3"
  },
  "language_info": {
   "codemirror_mode": {
    "name": "ipython",
    "version": 3
   },
   "file_extension": ".py",
   "mimetype": "text/x-python",
   "name": "python",
   "nbconvert_exporter": "python",
   "pygments_lexer": "ipython3",
   "version": "3.9.2"
  }
 },
 "nbformat": 4,
 "nbformat_minor": 5
}

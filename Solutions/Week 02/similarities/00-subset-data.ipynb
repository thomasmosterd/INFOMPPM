{
 "cells": [
  {
   "cell_type": "markdown",
   "id": "7c07ef1c",
   "metadata": {},
   "source": [
    "# Preparing dataset\n",
    "\n",
    "We will use the BX-Book-Ratings dataset for this week's notebooks. Since the set is rather large, please subset it and save a copy so that you can use it later. \n",
    "\n",
    "Please filter out:\n",
    "\n",
    "* users that have less than 20 ratings\n",
    "* books that have less than 20 ratings\n"
   ]
  },
  {
   "cell_type": "code",
   "execution_count": 4,
   "id": "3882ad9d",
   "metadata": {},
   "outputs": [],
   "source": [
    "import pandas as pd\n",
    "df_books_ratings = pd.read_csv('../../../data/BX-Book-Ratings.csv', sep=';', encoding='latin-1')"
   ]
  },
  {
   "cell_type": "code",
   "execution_count": 5,
   "id": "a93bcdc4",
   "metadata": {},
   "outputs": [],
   "source": [
    "df = df_books_ratings\n",
    "\n",
    "df = df[df['Book-Rating'] != 0]\n",
    "\n",
    "# subset users (more than 20 reviews)\n",
    "x = df['User-ID'].value_counts() >= 20\n",
    "\n",
    "users = x[x].index \n",
    "\n",
    "df = df[df['User-ID'].isin(users)]\n",
    "\n",
    "# subset books (more than 20 reviews)\n",
    "x = df['ISBN'].value_counts() >= 20\n",
    "\n",
    "isbns = x[x].index \n",
    "\n",
    "df = df[df['ISBN'].isin(isbns)]"
   ]
  },
  {
   "cell_type": "code",
   "execution_count": 6,
   "id": "df43c00a",
   "metadata": {},
   "outputs": [],
   "source": [
    "df.to_csv('data/BX-Book-Ratings-Subset.csv', index=False, sep=';')"
   ]
  }
 ],
 "metadata": {
  "kernelspec": {
   "display_name": "Python 3 (ipykernel)",
   "language": "python",
   "name": "python3"
  },
  "language_info": {
   "codemirror_mode": {
    "name": "ipython",
    "version": 3
   },
   "file_extension": ".py",
   "mimetype": "text/x-python",
   "name": "python",
   "nbconvert_exporter": "python",
   "pygments_lexer": "ipython3",
   "version": "3.9.2"
  }
 },
 "nbformat": 4,
 "nbformat_minor": 5
}

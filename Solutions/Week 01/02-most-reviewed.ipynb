{
 "cells": [
  {
   "cell_type": "markdown",
   "metadata": {},
   "source": [
    "# Recommendations based on most reviewed books\n",
    "You are going to create your first recommendations based most reviewed books. While this is far from personalised, it is still widely applied, and it does offer you to explore the Streamlit app in the app directory."
   ]
  },
  {
   "cell_type": "markdown",
   "metadata": {},
   "source": [
    "### 1. Calculate the total reviews per book"
   ]
  },
  {
   "cell_type": "code",
   "execution_count": null,
   "metadata": {},
   "outputs": [],
   "source": [
    "import pandas as pd\n",
    "df = pd.read_csv('data/BX-Book-Ratings-Subset.csv', sep=';', encoding='latin-1')\n",
    "df = df.groupby(['ISBN'])['Book-Rating'].agg(['count']).reset_index()\n",
    "df = df.sort_values(by=\"count\", ascending=False).head(10)"
   ]
  },
  {
   "cell_type": "markdown",
   "metadata": {},
   "source": [
    "### 2. Save the recommendations\n",
    "Select the top 10 recommendations based on amount of reviews, save the recommendations as `recommendations-most-reviewed.csv`, and replace the file in the `app/recommendations` directory. The app already has some recommendations which are in dire need of fixing. Make sure the file has the following columns: `ISBN;count`"
   ]
  },
  {
   "cell_type": "code",
   "execution_count": 17,
   "metadata": {},
   "outputs": [],
   "source": [
    "df.to_csv('recommendations-most-reviewed.csv', index=False, sep=';')"
   ]
  },
  {
   "cell_type": "markdown",
   "metadata": {},
   "source": [
    "### 3. Run the Streamlit app\n",
    "Perhaps this is the first time you will run a Streamlit app. We provided you with boilerplate code to see your recommendations in a working interface. Over time you might decide to tweak a few buttons or add some metadata, so it is good to familiarise yourself with the [Streamlit documentation](https://docs.streamlit.io/library/api-reference). As a future data scientist creating quick proofs-of-concept is a necessity.\n",
    "\n",
    "Go to the app and start the app `streamlit run app.py`"
   ]
  }
 ],
 "metadata": {
  "interpreter": {
   "hash": "37c10f95d263926787ebf1d430d11186fc6b9bac835b8518e0b5006ed24f0c36"
  },
  "kernelspec": {
   "display_name": "Python 3.8.0 64-bit",
   "language": "python",
   "name": "python3"
  },
  "language_info": {
   "codemirror_mode": {
    "name": "ipython",
    "version": 3
   },
   "file_extension": ".py",
   "mimetype": "text/x-python",
   "name": "python",
   "nbconvert_exporter": "python",
   "pygments_lexer": "ipython3",
   "version": "3.8.0"
  },
  "orig_nbformat": 4
 },
 "nbformat": 4,
 "nbformat_minor": 2
}

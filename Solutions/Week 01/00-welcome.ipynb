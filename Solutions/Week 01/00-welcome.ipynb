{
 "cells": [
  {
   "cell_type": "markdown",
   "metadata": {},
   "source": [
    "# Welcome to the books recommender assignment\n",
    "\n",
    "### Activities\n",
    "During this assignment, you will:\n",
    "- Create your first basic recommender system based on ratings and books Frequently-rated-together\n",
    "- Explore Streamlit\n",
    "- Collect additional metadata for future assignments\n",
    "\n",
    "### Dataset\n",
    "The dataset you for this assignment will be the [Book-Crossing Dataset](http://www2.informatik.uni-freiburg.de/~cziegler/BX/) mined by [Cai-Nicolas Ziegler}(http://dbis.informatik.uni-freiburg.de/team/ziegler/cai). \n",
    "\n",
    "The dataset:\n",
    "> ... a 4-week crawl (August / September 2004) from the Book-Crossing community with kind permission from Ron Hornbaker, CTO of Humankind Systems. Contains 278,858 users (anonymized but with demographic information) providing 1,149,780 ratings (explicit / implicit) about 271,379 books.\n",
    "\n",
    "While one could argue that the dataset is dated, it is a good starters dataset that will still offer you some challenges."
   ]
  }
 ],
 "metadata": {
  "language_info": {
   "name": "python"
  },
  "orig_nbformat": 4
 },
 "nbformat": 4,
 "nbformat_minor": 2
}

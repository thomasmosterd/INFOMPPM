{
 "cells": [
  {
   "cell_type": "markdown",
   "metadata": {},
   "source": [
    "# Recommendations based on Frequently Reviewed Together (frequency)\n",
    "An excellent way to give quick recommendations is based on Frequently Bought Together or, in this case, Frequently Reviewed Together. A way to create combinations is with `permutations` from `itertools`. For instance, the code below creates combinations from items occurring in a list.\n"
   ]
  },
  {
   "cell_type": "markdown",
   "metadata": {},
   "source": [
    "### 1. Quick introduction to permutations"
   ]
  },
  {
   "cell_type": "code",
   "execution_count": null,
   "metadata": {},
   "outputs": [],
   "source": [
    "from itertools import permutations \n",
    "\n",
    "# items bought together\n",
    "items = ['milk', 'bread', 'eggs']\n",
    "\n",
    "# this code creates sets of 2 items from the itemset above\n",
    "list(permutations(items, 2))"
   ]
  },
  {
   "cell_type": "markdown",
   "metadata": {},
   "source": [
    "### 2. Count the combinations of books reviewed together\n",
    "Create combinations with `permutations` and count the occurrences. Depending on your selection in the exploration step, this can take a while."
   ]
  },
  {
   "cell_type": "code",
   "execution_count": null,
   "metadata": {},
   "outputs": [],
   "source": [
    "import pandas as pd\n",
    "\n",
    "df = pd.read_csv('data/BX-Book-Ratings-Subset.csv', sep=';', encoding='latin-1')\n",
    "\n",
    "from itertools import permutations \n",
    "\n",
    "def create_combinations(x):\n",
    "  combinations = pd.DataFrame(list(permutations(x.values, 2)), columns=['book_a','book_b'])    \n",
    "  return combinations\n",
    "\n",
    "# use the function to create combinations\n",
    "book_combinations = df.groupby('User-ID')['ISBN'].apply(create_combinations) \n",
    "\n",
    "book_combinations = book_combinations.reset_index(drop=True)\n",
    "\n",
    "# count the combinations\n",
    "combinations_counts = book_combinations.groupby(['book_a', 'book_b']).size()\n",
    "combinations_counts = combinations_counts.to_frame(name = 'count').reset_index()"
   ]
  },
  {
   "cell_type": "markdown",
   "metadata": {},
   "source": [
    "### 3. Save the recommendations\n",
    "You can see that this will be a large file. Since we only need the top 10 of any given book, make sure the CSV file only contains 10 recommendations per book. Save the recommendations as `recommendations-seeded-freq.csv` and replace the file in the app directory. Do not forget to uncomment the block of code connected to this step. \n"
   ]
  },
  {
   "cell_type": "code",
   "execution_count": null,
   "metadata": {},
   "outputs": [],
   "source": [
    "combinations_counts = combinations_counts.sort_values('count', ascending=False)\n",
    "\n",
    "# only select top 10 per combination\n",
    "df1 = combinations_counts.sort_values('count', ascending = False).groupby('book_a').head(10)\n",
    "\n",
    "df1.to_csv('recommendations-seeded-freq.csv', index=False, sep=';')"
   ]
  }
 ],
 "metadata": {
  "interpreter": {
   "hash": "37c10f95d263926787ebf1d430d11186fc6b9bac835b8518e0b5006ed24f0c36"
  },
  "kernelspec": {
   "display_name": "Python 3.8.0 64-bit",
   "language": "python",
   "name": "python3"
  },
  "language_info": {
   "codemirror_mode": {
    "name": "ipython",
    "version": 3
   },
   "file_extension": ".py",
   "mimetype": "text/x-python",
   "name": "python",
   "nbconvert_exporter": "python",
   "pygments_lexer": "ipython3",
   "version": "3.8.0"
  },
  "orig_nbformat": 4
 },
 "nbformat": 4,
 "nbformat_minor": 2
}

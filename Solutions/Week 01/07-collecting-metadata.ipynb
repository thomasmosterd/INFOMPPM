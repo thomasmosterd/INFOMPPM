{
 "cells": [
  {
   "cell_type": "markdown",
   "metadata": {},
   "source": [
    "# Collecting extra metadata\n",
    "In the coming weeks, you will refine this book recommender system. However, in order to do so, you need extra data. This part is not to keep you busy, though it takes some time and effort, but to make you think critically about the data you need to refine this recommender system. Luckily, for this assignment, retrieving this extra metadata is relatively easy. [Google APIs](https://www.googleapis.com/books/v1/volumes?q=isbn:0451519841) offers a way to retrieve extra information based on an ISBN. "
   ]
  },
  {
   "cell_type": "markdown",
   "metadata": {},
   "source": [
    "### 1. Quick introduction to retrieving data from an API\n",
    "There are many ways to retrieve information from an API, and you probably experimented with a few already. For this case, you simply need to use the `requests` library. A quick refresher below. You can always check the [official](https://docs.python-requests.org/en/latest/user/quickstart/) documentation."
   ]
  },
  {
   "cell_type": "code",
   "execution_count": null,
   "metadata": {},
   "outputs": [],
   "source": [
    "import requests\n",
    "res = requests.get('https://api.github.com/events')\n",
    "print(res.text)"
   ]
  },
  {
   "cell_type": "markdown",
   "metadata": {},
   "source": [
    "### 2. Retrieve the data for the books in your dataset\n",
    "Retrieve the metadata and save it in files or a database. The best is to go about this process structured. Create batches of books and per batch:\n",
    "1. Retrieve the data\n",
    "2. Store the data\n",
    "3. Extract the data\n",
    "\n",
    "If you are clever (and time conscious), divide the collection part with a fellow student. Also, use `time.sleep()` to not overuse Google."
   ]
  },
  {
   "cell_type": "code",
   "execution_count": null,
   "metadata": {},
   "outputs": [],
   "source": [
    "# code goes here"
   ]
  }
 ],
 "metadata": {
  "interpreter": {
   "hash": "37c10f95d263926787ebf1d430d11186fc6b9bac835b8518e0b5006ed24f0c36"
  },
  "kernelspec": {
   "display_name": "Python 3.8.0 64-bit",
   "language": "python",
   "name": "python3"
  },
  "language_info": {
   "codemirror_mode": {
    "name": "ipython",
    "version": 3
   },
   "file_extension": ".py",
   "mimetype": "text/x-python",
   "name": "python",
   "nbconvert_exporter": "python",
   "pygments_lexer": "ipython3",
   "version": "3.8.0"
  },
  "orig_nbformat": 4
 },
 "nbformat": 4,
 "nbformat_minor": 2
}
